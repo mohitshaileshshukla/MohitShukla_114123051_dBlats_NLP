{
 "cells": [
  {
   "cell_type": "code",
   "execution_count": 22,
   "id": "4c9eb947-edde-48ea-b443-e355a3c29e98",
   "metadata": {
    "scrolled": true
   },
   "outputs": [
    {
     "name": "stderr",
     "output_type": "stream",
     "text": [
      "WARNING: You are using pip version 21.1.2; however, version 24.3.1 is available.\n",
      "You should consider upgrading via the 'C:\\Users\\shail\\PycharmProjects\\MLProject1\\venv\\Scripts\\python.exe -m pip install --upgrade pip' command.\n"
     ]
    }
   ],
   "source": [
    "!pip install -q transformers"
   ]
  },
  {
   "cell_type": "code",
   "execution_count": 23,
   "id": "287f52f7-2a22-41cb-9e79-85bde1977ffc",
   "metadata": {},
   "outputs": [
    {
     "name": "stderr",
     "output_type": "stream",
     "text": [
      "WARNING: You are using pip version 21.1.2; however, version 24.3.1 is available.\n",
      "You should consider upgrading via the 'C:\\Users\\shail\\PycharmProjects\\MLProject1\\venv\\Scripts\\python.exe -m pip install --upgrade pip' command.\n"
     ]
    }
   ],
   "source": [
    "!pip install -q youtube_transcript_api"
   ]
  },
  {
   "cell_type": "code",
   "execution_count": 1,
   "id": "8ba7beab-e1be-410a-b8bf-3ceb48dc50bb",
   "metadata": {
    "scrolled": true
   },
   "outputs": [],
   "source": [
    "import re\n",
    "from youtube_transcript_api import YouTubeTranscriptApi\n",
    "from IPython.display import YouTubeVideo\n",
    "from transformers import pipeline"
   ]
  },
  {
   "cell_type": "code",
   "execution_count": 2,
   "id": "35d1e435-a60c-480b-a1a5-323e0b03e6f6",
   "metadata": {},
   "outputs": [
    {
     "name": "stdin",
     "output_type": "stream",
     "text": [
      "Enter YouTube video URL :  https://www.youtube.com/watch?v=MS5UjNKw_1M\n"
     ]
    }
   ],
   "source": [
    "youtube_video = input(\"Enter YouTube video URL : \")\n",
    "\n",
    "try:\n",
    "    video_id = re.search(r'v=([\\w-]+)', youtube_video).group(1)\n",
    "except:\n",
    "    print(\"Invalid YouTube URL\")\n",
    "\n",
    "if not YouTubeVideo(video_id):\n",
    "    print(\"Video Not Found\")"
   ]
  },
  {
   "cell_type": "code",
   "execution_count": 5,
   "id": "d6b2fca2-dd97-4368-b4fa-57515edc00b7",
   "metadata": {},
   "outputs": [],
   "source": [
    "YouTubeTranscriptApi.get_transcript(video_id)\n",
    "transcript = YouTubeTranscriptApi.get_transcript(video_id)\n",
    "if not transcript:\n",
    "    print(\"Transcript could not be fetched\")"
   ]
  },
  {
   "cell_type": "code",
   "execution_count": 12,
   "id": "6e0e7478-9605-4a1f-a801-0e9a81835fce",
   "metadata": {},
   "outputs": [
    {
     "name": "stdout",
     "output_type": "stream",
     "text": [
      " BARACK OBAMA: I'm\n",
      "so in love with you. This is your victory. I know you didn't do this\n",
      "just to win an election. And I know you\n",
      "didn't do it for me. You did it because you\n",
      "understand the enormity of the task that lies ahead. But my main message is to the\n",
      "parents of Trayvon Martin. If I had a son, he'd\n",
      "look like Trayvon. They had their\n",
      "entire lives ahead of them, birthdays, graduations,\n",
      "weddings, kids of their own. Among the fallen were also\n",
      "teachers, men and women who devoted their lives\n",
      "to helping our children fulfill their dreams. So our hearts are broken today. It's the idea held by\n",
      "generations of citizens, who believe that America is a\n",
      "constant work in progress, who believe that loving\n",
      "this country requires more than singing its praises or\n",
      "avoiding uncomfortable truths. It requires the\n",
      "occasional disruption, the willingness to speak\n",
      "out for what is right, to shake up the status quo. That's America Amazing grace, how sweet the\n",
      "sound that saved a wretch like me. Facts, evidence, reason, logic,\n",
      "an understanding of science, these are good things. These are qualities you want\n",
      "in people making policy. Black, white, Latino, Asian,\n",
      "Native American, young, old, gay, straight, men, women,\n",
      "folks with disabilities all pledging allegiance under\n",
      "the same proud flag to this big, bold country that we love. That's what I see. That's the America I know. Obama out.\n"
     ]
    }
   ],
   "source": [
    "result = \"\"\n",
    "for i in transcript:\n",
    "    result += ' ' + i['text']\n",
    "\n",
    "print(result)"
   ]
  },
  {
   "cell_type": "code",
   "execution_count": 7,
   "id": "d64d228f-2346-41ee-bb1e-fda14c42e609",
   "metadata": {},
   "outputs": [
    {
     "name": "stderr",
     "output_type": "stream",
     "text": [
      "No model was supplied, defaulted to sshleifer/distilbart-cnn-12-6 and revision a4f8f3e (https://huggingface.co/sshleifer/distilbart-cnn-12-6).\n",
      "Using a pipeline without specifying a model name and revision in production is not recommended.\n",
      "Device set to use cpu\n"
     ]
    }
   ],
   "source": [
    "summarizer = pipeline('summarization')"
   ]
  },
  {
   "cell_type": "code",
   "execution_count": 8,
   "id": "cea75370-7054-4ea4-adfd-89adfff73509",
   "metadata": {},
   "outputs": [
    {
     "name": "stderr",
     "output_type": "stream",
     "text": [
      "Your max_length is set to 142, but your input_length is only 92. Since this is a summarization task, where outputs shorter than the input are typically wanted, you might consider decreasing max_length manually, e.g. summarizer('...', max_length=46)\n"
     ]
    }
   ],
   "source": [
    "num_iters = int(len(result)/1000)\n",
    "summarized_text = []\n",
    "for i in range(0, num_iters + 1):  \n",
    "    start = 0\n",
    "    start = i * 1000\n",
    "    end = (i + 1) * 1000\n",
    "\n",
    "    out = summarizer(result[start:end])\n",
    "    out = out[0]\n",
    "    out = out['summary_text']\n",
    "\n",
    "    summarized_text.append(out)\n",
    "\n",
    "\n",
    "#print(len(str(summarized_text)))"
   ]
  },
  {
   "cell_type": "code",
   "execution_count": 9,
   "id": "bb5d2244-3000-4f4f-b79e-6c7abc825a1c",
   "metadata": {},
   "outputs": [
    {
     "name": "stdout",
     "output_type": "stream",
     "text": [
      "Summary :\n",
      " [ Barack Obama: If I had a son hed look like Trayvon Martin Obama: Im so in love with you. This is your victory. I know you didnt do this just to win an election Obama says . Obama: Love of the country requires more than singing its praises or avoiding uncomfortable truths .  Obama out. on logic understanding of science these are good things. These are qualities you want in people making policy. Black white Latino Asian Native American young old gay straight men women men and women all pledging allegiance under the same proud flag to this big bold country that we love.]\n"
     ]
    }
   ],
   "source": [
    "final_summarized_text = re.sub(r'[\"\\',]', '', re.sub(r\"\\\\'\", \"'\", re.sub(r\",\\\\'\", \"'\", str(summarized_text))))\n",
    "print('Summary :\\n', final_summarized_text)"
   ]
  },
  {
   "cell_type": "code",
   "execution_count": 13,
   "id": "b295652c-77ad-4c79-aba6-14951a67a791",
   "metadata": {},
   "outputs": [
    {
     "name": "stdout",
     "output_type": "stream",
     "text": [
      "\n"
     ]
    },
    {
     "data": {
      "text/plain": [
       "0.44897958703132956"
      ]
     },
     "execution_count": 13,
     "metadata": {},
     "output_type": "execute_result"
    }
   ],
   "source": [
    "from rouge import Rouge\n",
    "rouge_scorer = Rouge()\n",
    "\n",
    "hypothesis = final_summarized_text\n",
    "reference = \"Barack Obama's victory is a testament to his understanding of the enormity of the task ahead. He focuses on the parents of Trayvon Martin, who had their lives ahead of them. He believes that loving America requires more than singing its praises or avoiding uncomfortable truths. He believes that people making policy should have qualities like facts, evidence, reason, logic, and an understanding of science. He sees a united America, with Obama out.\"\n",
    "print()\n",
    "score = rouge_scorer.get_scores(\n",
    "    hyps = hypothesis,\n",
    "    refs = reference\n",
    ")\n",
    "score[0][\"rouge-1\"][\"f\"]"
   ]
  },
  {
   "cell_type": "code",
   "execution_count": null,
   "id": "15eed205-080e-435d-9ce3-fe8280ae0440",
   "metadata": {},
   "outputs": [],
   "source": []
  }
 ],
 "metadata": {
  "kernelspec": {
   "display_name": "Python 3 (ipykernel)",
   "language": "python",
   "name": "python3"
  },
  "language_info": {
   "codemirror_mode": {
    "name": "ipython",
    "version": 3
   },
   "file_extension": ".py",
   "mimetype": "text/x-python",
   "name": "python",
   "nbconvert_exporter": "python",
   "pygments_lexer": "ipython3",
   "version": "3.10.0"
  }
 },
 "nbformat": 4,
 "nbformat_minor": 5
}
