{
 "cells": [
  {
   "cell_type": "code",
   "execution_count": null,
   "id": "4c9eb947-edde-48ea-b443-e355a3c29e98",
   "metadata": {},
   "outputs": [],
   "source": [
    "!pip install -q transformers"
   ]
  },
  {
   "cell_type": "code",
   "execution_count": null,
   "id": "287f52f7-2a22-41cb-9e79-85bde1977ffc",
   "metadata": {},
   "outputs": [],
   "source": [
    "!pip install -q youtube_transcript_api"
   ]
  },
  {
   "cell_type": "code",
   "execution_count": null,
   "id": "8ba7beab-e1be-410a-b8bf-3ceb48dc50bb",
   "metadata": {
    "scrolled": true
   },
   "outputs": [],
   "source": [
    "import re\n",
    "from youtube_transcript_api import YouTubeTranscriptApi\n",
    "from transformers import pipeline"
   ]
  },
  {
   "cell_type": "code",
   "execution_count": null,
   "id": "35d1e435-a60c-480b-a1a5-323e0b03e6f6",
   "metadata": {},
   "outputs": [],
   "source": [
    "youtube_video = input(\"Enter YouTube video URL : \")\n",
    "\n",
    "try:\n",
    "    video_id = re.search(r'v=([\\w-]+)', youtube_video).group(1)\n",
    "except:\n",
    "    print(\"Invalid YouTube URL\")\n",
    "\n",
    "\n",
    "from IPython.display import YouTubeVideo\n",
    "if not YouTubeVideo(video_id):\n",
    "    print(\"Video Not Available\")"
   ]
  },
  {
   "cell_type": "code",
   "execution_count": null,
   "id": "d6b2fca2-dd97-4368-b4fa-57515edc00b7",
   "metadata": {},
   "outputs": [],
   "source": [
    "YouTubeTranscriptApi.get_transcript(video_id)\n",
    "transcript = YouTubeTranscriptApi.get_transcript(video_id)\n",
    "if not transcript:\n",
    "    print(\"Transcript could not be fetched\")"
   ]
  },
  {
   "cell_type": "code",
   "execution_count": null,
   "id": "6e0e7478-9605-4a1f-a801-0e9a81835fce",
   "metadata": {},
   "outputs": [],
   "source": [
    "result = \"\"\n",
    "for i in transcript:\n",
    "    result += ' ' + i['text']\n",
    "\n",
    "#print(len(result))"
   ]
  },
  {
   "cell_type": "code",
   "execution_count": null,
   "id": "d64d228f-2346-41ee-bb1e-fda14c42e609",
   "metadata": {},
   "outputs": [],
   "source": [
    "summarizer = pipeline('summarization')"
   ]
  },
  {
   "cell_type": "code",
   "execution_count": null,
   "id": "cea75370-7054-4ea4-adfd-89adfff73509",
   "metadata": {},
   "outputs": [],
   "source": [
    "num_iters = int(len(result)/1000)\n",
    "summarized_text = []\n",
    "for i in range(0, num_iters + 1):  \n",
    "    start = 0\n",
    "    start = i * 1000\n",
    "    end = (i + 1) * 1000\n",
    "\n",
    "    out = summarizer(result[start:end])\n",
    "    out = out[0]\n",
    "    out = out['summary_text']\n",
    "\n",
    "    summarized_text.append(out)\n",
    "\n",
    "\n",
    "#print(len(str(summarized_text)))"
   ]
  },
  {
   "cell_type": "code",
   "execution_count": null,
   "id": "bb5d2244-3000-4f4f-b79e-6c7abc825a1c",
   "metadata": {},
   "outputs": [],
   "source": [
    "final_summarized_text = re.sub(r'[\"\\',]', '', re.sub(r\"\\\\'\", \"'\", re.sub(r\",\\\\'\", \"'\", str(summarized_text))))\n",
    "print('Summary :\\n', final_summarized_text)"
   ]
  }
 ],
 "metadata": {
  "kernelspec": {
   "display_name": "Python 3 (ipykernel)",
   "language": "python",
   "name": "python3"
  },
  "language_info": {
   "codemirror_mode": {
    "name": "ipython",
    "version": 3
   },
   "file_extension": ".py",
   "mimetype": "text/x-python",
   "name": "python",
   "nbconvert_exporter": "python",
   "pygments_lexer": "ipython3",
   "version": "3.10.0"
  }
 },
 "nbformat": 4,
 "nbformat_minor": 5
}
